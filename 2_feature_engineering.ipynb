{
 "cells": [
  {
   "cell_type": "code",
   "execution_count": 1,
   "metadata": {},
   "outputs": [],
   "source": [
    "import pandas as pd\n",
    "from sklearn import preprocessing\n",
    "import sweetviz as sv\n"
   ]
  },
  {
   "cell_type": "code",
   "execution_count": 2,
   "metadata": {},
   "outputs": [],
   "source": [
    "# Loads dtypes\n",
    "types = pd.read_csv(\"./data/interim/transactions_dtypes.csv\", index_col=0)\n",
    "types_dict = types[\"0\"].to_dict()\n",
    "df = pd.read_csv(\"./data/interim/transactions.csv\", index_col=0)\n",
    "# sets loaded dtypes to dataframe\n",
    "df = df.astype(types_dict)\n"
   ]
  },
  {
   "cell_type": "markdown",
   "metadata": {},
   "source": [
    "# Adding Features"
   ]
  },
  {
   "cell_type": "code",
   "execution_count": 3,
   "metadata": {},
   "outputs": [
    {
     "data": {
      "text/plain": [
       "Index(['customerId', 'creditLimit', 'availableMoney', 'transactionDateTime',\n",
       "       'transactionAmount', 'merchantName', 'acqCountry',\n",
       "       'merchantCountryCode', 'posEntryMode', 'posConditionCode',\n",
       "       'merchantCategoryCode', 'currentExpDate', 'accountOpenDate',\n",
       "       'dateOfLastAddressChange', 'cardCVV', 'enteredCVV', 'cardLast4Digits',\n",
       "       'transactionType', 'currentBalance', 'cardPresent',\n",
       "       'expirationDateKeyInMatch', 'isFraud'],\n",
       "      dtype='object')"
      ]
     },
     "execution_count": 3,
     "metadata": {},
     "output_type": "execute_result"
    }
   ],
   "source": [
    "df.columns\n"
   ]
  },
  {
   "cell_type": "markdown",
   "metadata": {},
   "source": [
    "### Age of account"
   ]
  },
  {
   "cell_type": "code",
   "execution_count": 4,
   "metadata": {},
   "outputs": [],
   "source": [
    "df[\"accountAge\"] = (df.transactionDateTime - df.accountOpenDate).dt.days\n",
    "\n"
   ]
  },
  {
   "cell_type": "markdown",
   "metadata": {},
   "source": [
    "### Card CVV = entered CVV"
   ]
  },
  {
   "cell_type": "code",
   "execution_count": 5,
   "metadata": {},
   "outputs": [
    {
     "data": {
      "text/plain": [
       "False    0.971429\n",
       "True     0.028571\n",
       "Name: isFraud, dtype: float64"
      ]
     },
     "execution_count": 5,
     "metadata": {},
     "output_type": "execute_result"
    }
   ],
   "source": [
    "df[df.cardCVV != df.enteredCVV][\"isFraud\"].value_counts(normalize=True)\n"
   ]
  },
  {
   "cell_type": "code",
   "execution_count": 6,
   "metadata": {},
   "outputs": [],
   "source": [
    "df[\"cvvMatch\"] = df.cardCVV == df.enteredCVV\n"
   ]
  },
  {
   "cell_type": "markdown",
   "metadata": {},
   "source": [
    "### Time since address was changed"
   ]
  },
  {
   "cell_type": "code",
   "execution_count": 7,
   "metadata": {},
   "outputs": [],
   "source": [
    "df[\"sinceDateOfLastAddressChange\"] = (\n",
    "    df.transactionDateTime - df.dateOfLastAddressChange\n",
    ").dt.days\n"
   ]
  },
  {
   "cell_type": "markdown",
   "metadata": {},
   "source": [
    "### If country codes match"
   ]
  },
  {
   "cell_type": "code",
   "execution_count": 8,
   "metadata": {},
   "outputs": [],
   "source": [
    "df[\"countryMatch\"] = df.acqCountry == df.merchantCountryCode\n"
   ]
  },
  {
   "cell_type": "markdown",
   "metadata": {},
   "source": [
    "### General date properties"
   ]
  },
  {
   "cell_type": "code",
   "execution_count": 9,
   "metadata": {},
   "outputs": [
    {
     "name": "stderr",
     "output_type": "stream",
     "text": [
      "<ipython-input-9-800e558f2f2b>:4: FutureWarning: Series.dt.weekofyear and Series.dt.week have been deprecated.  Please use Series.dt.isocalendar().week instead.\n",
      "  df[\"weekOfYear\"] = df.transactionDateTime.dt.weekofyear\n"
     ]
    }
   ],
   "source": [
    "df[\"dayOfMonth\"] = df.transactionDateTime.dt.day\n",
    "df[\"month\"] = df.transactionDateTime.dt.month\n",
    "df[\"dayOfYear\"] = df.transactionDateTime.dt.dayofyear\n",
    "df[\"weekOfYear\"] = df.transactionDateTime.dt.weekofyear\n",
    "df[\"dayOfWeek\"] = df.transactionDateTime.dt.dayofweek\n",
    "df[\"quarter\"] = df.transactionDateTime.dt.quarter\n",
    "df[\"hour\"] = df.transactionDateTime.dt.hour\n"
   ]
  },
  {
   "cell_type": "markdown",
   "metadata": {},
   "source": [
    "### Weekday or weekend"
   ]
  },
  {
   "cell_type": "code",
   "execution_count": 10,
   "metadata": {},
   "outputs": [],
   "source": [
    "df[\"weekday\"] = df.dayOfWeek < 5\n"
   ]
  },
  {
   "cell_type": "markdown",
   "metadata": {},
   "source": [
    "### Time of day I decided to make three parts of the day\n"
   ]
  },
  {
   "cell_type": "code",
   "execution_count": 11,
   "metadata": {},
   "outputs": [],
   "source": [
    "df[\"timeOfDay\"] = pd.cut(df.hour, bins=3, labels=[0, 1, 2])\n"
   ]
  },
  {
   "cell_type": "markdown",
   "metadata": {},
   "source": [
    "### Average fraud of customer. Shifted so each line shows what's happened in the past\n"
   ]
  },
  {
   "cell_type": "code",
   "execution_count": 12,
   "metadata": {},
   "outputs": [],
   "source": [
    "df[\"avgFraud\"] = (\n",
    "    df.groupby(\"customerId\")[\"isFraud\"]\n",
    "    .apply(lambda x: x.shift().expanding().mean())\n",
    "    .fillna(0)\n",
    ")\n"
   ]
  },
  {
   "cell_type": "markdown",
   "metadata": {},
   "source": [
    "## Revisting with more features\n",
    "After running a basic Log Regression model, I think I need better features"
   ]
  },
  {
   "cell_type": "markdown",
   "metadata": {},
   "source": [
    "### Transactions that happen less than 3 minutes apart"
   ]
  },
  {
   "cell_type": "code",
   "execution_count": 13,
   "metadata": {},
   "outputs": [],
   "source": [
    "df[\"quick_transaction\"] = (\n",
    "    df.groupby(\"customerId\").apply(\n",
    "        lambda x: x.rolling(\"3min\", on=\"transactionDateTime\").count()\n",
    "    )\n",
    ")[\"isFraud\"]\n"
   ]
  },
  {
   "cell_type": "markdown",
   "metadata": {},
   "source": [
    "### Transactions that happen in separate countries, but minutes apart"
   ]
  },
  {
   "cell_type": "code",
   "execution_count": 14,
   "metadata": {},
   "outputs": [],
   "source": [
    "df[\"time_shift_down1\"] = df.groupby(\"customerId\").transactionDateTime.shift(1)\n",
    "df[\"country_shift_down1\"] = df.groupby(\"customerId\").acqCountry.shift(1)\n"
   ]
  },
  {
   "cell_type": "code",
   "execution_count": 15,
   "metadata": {},
   "outputs": [],
   "source": [
    "ctry_diff = df.acqCountry != df.country_shift_down1\n",
    "in_window = (df.transactionDateTime - df.time_shift_down1) < pd.Timedelta(\"5 minutes\")\n",
    "df[\"ctry_diff_five_min\"] = (ctry_diff & in_window).fillna(False)\n"
   ]
  },
  {
   "cell_type": "markdown",
   "metadata": {},
   "source": [
    "### Minimum time (minutes) between transactions in a 30 day span"
   ]
  },
  {
   "cell_type": "code",
   "execution_count": 16,
   "metadata": {},
   "outputs": [],
   "source": [
    "# Difference in time per group\n",
    "df[\"time_diff\"] = (\n",
    "    df.groupby(\"customerId\")[\"transactionDateTime\"].diff().fillna(pd.Timedelta(0))\n",
    ")\n",
    "df[\"time_diff\"] = (df.time_diff.dt.total_seconds() / 60).astype(\"int\")\n"
   ]
  },
  {
   "cell_type": "code",
   "execution_count": 17,
   "metadata": {},
   "outputs": [],
   "source": [
    "df[\"min_time_diff_month\"] = (\n",
    "    df.groupby(\"customerId\")\n",
    "    .apply(lambda x: x.rolling(\"30D\", on=\"transactionDateTime\")[\"time_diff\"].min())\n",
    "    .reset_index(\"customerId\")\n",
    "    .drop(\"customerId\", axis=1)\n",
    "    .sort_index()\n",
    "    .squeeze()\n",
    ")\n"
   ]
  },
  {
   "cell_type": "markdown",
   "metadata": {},
   "source": [
    "### Average Amount spent per transaction over 1 month"
   ]
  },
  {
   "cell_type": "code",
   "execution_count": 18,
   "metadata": {},
   "outputs": [],
   "source": [
    "df[\"avg_spent_month\"] = (\n",
    "    df.groupby(\"customerId\")\n",
    "    .apply(\n",
    "        lambda x: x.rolling(\"30D\", on=\"transactionDateTime\")[\"transactionAmount\"].mean()\n",
    "    )\n",
    "    .reset_index(\"customerId\")\n",
    "    .drop(\"customerId\", axis=1)\n",
    "    .sort_index()\n",
    "    .squeeze()\n",
    ")\n"
   ]
  },
  {
   "cell_type": "markdown",
   "metadata": {},
   "source": [
    "### Total amount spent on the same day"
   ]
  },
  {
   "cell_type": "code",
   "execution_count": 19,
   "metadata": {},
   "outputs": [],
   "source": [
    "df[\"total_spent_one_day\"] = (\n",
    "    df.groupby(\"customerId\")\n",
    "    .apply(\n",
    "        lambda x: x.rolling(\"1D\", on=\"transactionDateTime\")[\"transactionAmount\"].sum()\n",
    "    )\n",
    "    .reset_index(\"customerId\")\n",
    "    .drop(\"customerId\", axis=1)\n",
    "    .sort_index()\n",
    "    .squeeze()\n",
    ")\n"
   ]
  },
  {
   "cell_type": "code",
   "execution_count": 20,
   "metadata": {},
   "outputs": [
    {
     "name": "stdout",
     "output_type": "stream",
     "text": [
      "<class 'pandas.core.frame.DataFrame'>\n",
      "Int64Index: 776668 entries, 0 to 786362\n",
      "Data columns (total 44 columns):\n",
      " #   Column                        Non-Null Count   Dtype         \n",
      "---  ------                        --------------   -----         \n",
      " 0   customerId                    776668 non-null  object        \n",
      " 1   creditLimit                   776668 non-null  float64       \n",
      " 2   availableMoney                776668 non-null  float64       \n",
      " 3   transactionDateTime           776668 non-null  datetime64[ns]\n",
      " 4   transactionAmount             776668 non-null  float64       \n",
      " 5   merchantName                  776668 non-null  object        \n",
      " 6   acqCountry                    776668 non-null  object        \n",
      " 7   merchantCountryCode           776668 non-null  object        \n",
      " 8   posEntryMode                  776668 non-null  object        \n",
      " 9   posConditionCode              776668 non-null  object        \n",
      " 10  merchantCategoryCode          776668 non-null  object        \n",
      " 11  currentExpDate                776668 non-null  datetime64[ns]\n",
      " 12  accountOpenDate               776668 non-null  datetime64[ns]\n",
      " 13  dateOfLastAddressChange       776668 non-null  datetime64[ns]\n",
      " 14  cardCVV                       776668 non-null  object        \n",
      " 15  enteredCVV                    776668 non-null  object        \n",
      " 16  cardLast4Digits               776668 non-null  object        \n",
      " 17  transactionType               776668 non-null  object        \n",
      " 18  currentBalance                776668 non-null  float64       \n",
      " 19  cardPresent                   776668 non-null  bool          \n",
      " 20  expirationDateKeyInMatch      776668 non-null  bool          \n",
      " 21  isFraud                       776668 non-null  bool          \n",
      " 22  accountAge                    776668 non-null  int64         \n",
      " 23  cvvMatch                      776668 non-null  bool          \n",
      " 24  sinceDateOfLastAddressChange  776668 non-null  int64         \n",
      " 25  countryMatch                  776668 non-null  bool          \n",
      " 26  dayOfMonth                    776668 non-null  int64         \n",
      " 27  month                         776668 non-null  int64         \n",
      " 28  dayOfYear                     776668 non-null  int64         \n",
      " 29  weekOfYear                    776668 non-null  int64         \n",
      " 30  dayOfWeek                     776668 non-null  int64         \n",
      " 31  quarter                       776668 non-null  int64         \n",
      " 32  hour                          776668 non-null  int64         \n",
      " 33  weekday                       776668 non-null  bool          \n",
      " 34  timeOfDay                     776668 non-null  category      \n",
      " 35  avgFraud                      776668 non-null  float64       \n",
      " 36  quick_transaction             776668 non-null  float64       \n",
      " 37  time_shift_down1              771671 non-null  datetime64[ns]\n",
      " 38  country_shift_down1           771671 non-null  object        \n",
      " 39  ctry_diff_five_min            776668 non-null  bool          \n",
      " 40  time_diff                     776668 non-null  int32         \n",
      " 41  min_time_diff_month           776668 non-null  float64       \n",
      " 42  avg_spent_month               776668 non-null  float64       \n",
      " 43  total_spent_one_day           776668 non-null  float64       \n",
      "dtypes: bool(7), category(1), datetime64[ns](5), float64(9), int32(1), int64(9), object(12)\n",
      "memory usage: 222.2+ MB\n"
     ]
    }
   ],
   "source": [
    "df.info()\n"
   ]
  },
  {
   "cell_type": "markdown",
   "metadata": {},
   "source": [
    "# Encoding"
   ]
  },
  {
   "cell_type": "code",
   "execution_count": 22,
   "metadata": {},
   "outputs": [
    {
     "name": "stderr",
     "output_type": "stream",
     "text": [
      "Done! Use 'show' commands to display/save.   |██████████| [100%]   00:02 -> (00:00 left)\n"
     ]
    },
    {
     "name": "stdout",
     "output_type": "stream",
     "text": [
      "Report 2_SWEETVIZ_REPORT.html was generated! NOTEBOOK/COLAB USERS: the web browser MAY not pop up, regardless, the report IS saved in your notebook/colab files.\n"
     ]
    }
   ],
   "source": [
    "# Commented out because It takes a while to run\n",
    "\n",
    "my_report = sv.analyze(df,)\n",
    "my_report.show_html(filepath=\"2_SWEETVIZ_REPORT.html\")\n"
   ]
  },
  {
   "cell_type": "code",
   "execution_count": null,
   "metadata": {},
   "outputs": [],
   "source": [
    "\"\"\"Enconding List\n",
    "\n",
    "customerId - nothing\n",
    "creditLimit - nothing\n",
    "availableMoney - cut\n",
    "transactionDateTime - drop\n",
    "transactionAmount - qcut\n",
    "merchantName - ordinal\n",
    "acqCountry - ordinal\n",
    "merchantCountryCode - ordinal\n",
    "posEntryMode - ordinal\n",
    "posConditionCode - ordinal\n",
    "merchantCategoryCode - ordinal\n",
    "currentExpDate - drop\n",
    "accountOpenDate - drop\n",
    "dateOfLastAddressChange - drop\n",
    "cardCVV - drop\n",
    "enteredCVV - drop\n",
    "cardLast4Digits - drop\n",
    "transactionType - ordinal\n",
    "currentBalance - nothing\n",
    "cardPresent - boolean\n",
    "expirationDateKeyInMatch - boolean\n",
    "isFraud - boolean\n",
    "accountAge - nothing\n",
    "cvvMatch - boolean\n",
    "sinceDateOfLastAddressChange - nothing\n",
    "countryMatch - boolean\n",
    "dayOfMonth - nothing\n",
    "month - nothing\n",
    "dayOfYear - nothing\n",
    "weekOfYear - nothing\n",
    "dayOfWeek - nothing\n",
    "quarter - nothing\n",
    "hour - nothing\n",
    "weekday - boolean\n",
    "timeOfDay - nothing\n",
    "avgFraud - nothing\n",
    "quick_transaction - nothing\n",
    "time_shift_down1 - drop\n",
    "country_shift_down1 - drop\n",
    "ctry_diff_five_min - boolean\n",
    "time_diff - nothing\n",
    "min_time_diff_month - nothing\n",
    "cumFraud - nothing\n",
    "avg_spent_month - nothing\n",
    "total_spent_one_day - nothing\"\"\"\n"
   ]
  },
  {
   "cell_type": "markdown",
   "metadata": {},
   "source": [
    "## Binning"
   ]
  },
  {
   "cell_type": "code",
   "execution_count": 25,
   "metadata": {},
   "outputs": [],
   "source": [
    "# available money - cut\n",
    "df[\"availableMoney\"] = pd.cut(\n",
    "    df.availableMoney,\n",
    "    bins=[-5000, -1000, -500, -100, 0, 100, 500, 1000, 5000, 50000],\n",
    "    labels=[0, 1, 2, 3, 4, 5, 6, 7, 8],\n",
    ")\n",
    "\n",
    "# transactionAmount - qcut\n",
    "df[\"transactionAmount\"] = pd.qcut(df.transactionAmount, 4, labels=[0, 1, 2, 3])\n"
   ]
  },
  {
   "cell_type": "markdown",
   "metadata": {},
   "source": [
    "## Ordinal"
   ]
  },
  {
   "cell_type": "code",
   "execution_count": 26,
   "metadata": {},
   "outputs": [
    {
     "data": {
      "text/plain": [
       "0"
      ]
     },
     "execution_count": 26,
     "metadata": {},
     "output_type": "execute_result"
    }
   ],
   "source": [
    "# merchantName - i'm going to remove the individual locations - like AMC #010101 - could change this choice later\n",
    "df[\"merchantName\"] = df.merchantName.str.replace(r\"\\s#.*$\", \"\", regex=True)\n",
    "\n",
    "# List of cols to encode\n",
    "ordinal_encode = [\n",
    "    \"acqCountry\",\n",
    "    \"merchantCountryCode\",\n",
    "    \"posEntryMode\",\n",
    "    \"posConditionCode\",\n",
    "    \"merchantCategoryCode\",\n",
    "    \"transactionType\",\n",
    "    \"merchantName\",\n",
    "]\n",
    "\n",
    "# Encode all cols\n",
    "ordinal = preprocessing.OrdinalEncoder()\n",
    "df[ordinal_encode] = ordinal.fit_transform(df[ordinal_encode])\n",
    "# Counts number of nans\n",
    "df[ordinal_encode].isnull().sum().sum()\n"
   ]
  },
  {
   "cell_type": "markdown",
   "metadata": {},
   "source": [
    "## Booleans"
   ]
  },
  {
   "cell_type": "code",
   "execution_count": 27,
   "metadata": {},
   "outputs": [],
   "source": [
    "boolean_encode = [\n",
    "    \"cardPresent\",\n",
    "    \"expirationDateKeyInMatch\",\n",
    "    \"isFraud\",\n",
    "    \"cvvMatch\",\n",
    "    \"countryMatch\",\n",
    "    \"weekday\",\n",
    "    \"ctry_diff_five_min\",\n",
    "]\n",
    "\n",
    "df[boolean_encode] = df[boolean_encode].astype(\"int\")\n"
   ]
  },
  {
   "cell_type": "markdown",
   "metadata": {},
   "source": [
    "## Drop"
   ]
  },
  {
   "cell_type": "code",
   "execution_count": 28,
   "metadata": {},
   "outputs": [],
   "source": [
    "df = df.drop(\n",
    "    [\n",
    "        \"transactionDateTime\",\n",
    "        \"currentExpDate\",\n",
    "        \"accountOpenDate\",\n",
    "        \"dateOfLastAddressChange\",\n",
    "        \"cardCVV\",\n",
    "        \"enteredCVV\",\n",
    "        \"cardLast4Digits\",\n",
    "        \"time_shift_down1\",\n",
    "        \"country_shift_down1\",\n",
    "    ],\n",
    "    axis=1,\n",
    ")\n"
   ]
  },
  {
   "cell_type": "code",
   "execution_count": 29,
   "metadata": {},
   "outputs": [
    {
     "name": "stdout",
     "output_type": "stream",
     "text": [
      "<class 'pandas.core.frame.DataFrame'>\n",
      "Int64Index: 776668 entries, 0 to 786362\n",
      "Data columns (total 35 columns):\n",
      " #   Column                        Non-Null Count   Dtype   \n",
      "---  ------                        --------------   -----   \n",
      " 0   customerId                    776668 non-null  object  \n",
      " 1   creditLimit                   776668 non-null  float64 \n",
      " 2   availableMoney                776668 non-null  category\n",
      " 3   transactionAmount             776668 non-null  category\n",
      " 4   merchantName                  776668 non-null  float64 \n",
      " 5   acqCountry                    776668 non-null  float64 \n",
      " 6   merchantCountryCode           776668 non-null  float64 \n",
      " 7   posEntryMode                  776668 non-null  float64 \n",
      " 8   posConditionCode              776668 non-null  float64 \n",
      " 9   merchantCategoryCode          776668 non-null  float64 \n",
      " 10  transactionType               776668 non-null  float64 \n",
      " 11  currentBalance                776668 non-null  float64 \n",
      " 12  cardPresent                   776668 non-null  int32   \n",
      " 13  expirationDateKeyInMatch      776668 non-null  int32   \n",
      " 14  isFraud                       776668 non-null  int32   \n",
      " 15  accountAge                    776668 non-null  int64   \n",
      " 16  cvvMatch                      776668 non-null  int32   \n",
      " 17  sinceDateOfLastAddressChange  776668 non-null  int64   \n",
      " 18  countryMatch                  776668 non-null  int32   \n",
      " 19  dayOfMonth                    776668 non-null  int64   \n",
      " 20  month                         776668 non-null  int64   \n",
      " 21  dayOfYear                     776668 non-null  int64   \n",
      " 22  weekOfYear                    776668 non-null  int64   \n",
      " 23  dayOfWeek                     776668 non-null  int64   \n",
      " 24  quarter                       776668 non-null  int64   \n",
      " 25  hour                          776668 non-null  int64   \n",
      " 26  weekday                       776668 non-null  int32   \n",
      " 27  timeOfDay                     776668 non-null  category\n",
      " 28  avgFraud                      776668 non-null  float64 \n",
      " 29  quick_transaction             776668 non-null  float64 \n",
      " 30  ctry_diff_five_min            776668 non-null  int32   \n",
      " 31  time_diff                     776668 non-null  int32   \n",
      " 32  min_time_diff_month           776668 non-null  float64 \n",
      " 33  avg_spent_month               776668 non-null  float64 \n",
      " 34  total_spent_one_day           776668 non-null  float64 \n",
      "dtypes: category(3), float64(14), int32(8), int64(9), object(1)\n",
      "memory usage: 174.1+ MB\n"
     ]
    }
   ],
   "source": [
    "df.info()\n"
   ]
  },
  {
   "cell_type": "code",
   "execution_count": 31,
   "metadata": {},
   "outputs": [],
   "source": [
    "# Saves types to load quickly\n",
    "df.dtypes.to_csv(\"./data/processed/transactions_dtypes.csv\")\n",
    "# Save data\n",
    "df.to_csv(\"./data/processed/transactions.csv\")\n"
   ]
  }
 ],
 "metadata": {
  "interpreter": {
   "hash": "ed225720166559e7176d3793db16a2fd8d295f725007103b21ac3099d2a89ee8"
  },
  "kernelspec": {
   "display_name": "Python 3.8.8 64-bit ('base': conda)",
   "name": "python3"
  },
  "language_info": {
   "codemirror_mode": {
    "name": "ipython",
    "version": 3
   },
   "file_extension": ".py",
   "mimetype": "text/x-python",
   "name": "python",
   "nbconvert_exporter": "python",
   "pygments_lexer": "ipython3",
   "version": "3.8.8"
  },
  "orig_nbformat": 4
 },
 "nbformat": 4,
 "nbformat_minor": 2
}
