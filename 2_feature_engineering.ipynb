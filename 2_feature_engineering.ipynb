{
 "cells": [
  {
   "cell_type": "code",
   "execution_count": 1,
   "metadata": {},
   "outputs": [],
   "source": [
    "import pandas as pd\n",
    "from sklearn import preprocessing\n"
   ]
  },
  {
   "cell_type": "code",
   "execution_count": 2,
   "metadata": {},
   "outputs": [],
   "source": [
    "df = pd.read_csv(\n",
    "    \"./data/interim/transactions.csv\",\n",
    "    index_col=0,\n",
    "    parse_dates=[\n",
    "        \"transactionDateTime\",\n",
    "        \"currentExpDate\",\n",
    "        \"accountOpenDate\",\n",
    "        \"dateOfLastAddressChange\",\n",
    "    ],\n",
    ")\n"
   ]
  },
  {
   "cell_type": "markdown",
   "metadata": {},
   "source": [
    "# Adding Columns"
   ]
  },
  {
   "cell_type": "code",
   "execution_count": 4,
   "metadata": {},
   "outputs": [
    {
     "data": {
      "text/plain": [
       "Index(['customerId', 'creditLimit', 'availableMoney', 'transactionDateTime',\n",
       "       'transactionAmount', 'merchantName', 'acqCountry',\n",
       "       'merchantCountryCode', 'posEntryMode', 'posConditionCode',\n",
       "       'merchantCategoryCode', 'currentExpDate', 'accountOpenDate',\n",
       "       'dateOfLastAddressChange', 'cardCVV', 'enteredCVV', 'cardLast4Digits',\n",
       "       'transactionType', 'currentBalance', 'cardPresent',\n",
       "       'expirationDateKeyInMatch', 'isFraud'],\n",
       "      dtype='object')"
      ]
     },
     "execution_count": 4,
     "metadata": {},
     "output_type": "execute_result"
    }
   ],
   "source": [
    "df.columns\n"
   ]
  },
  {
   "cell_type": "code",
   "execution_count": 5,
   "metadata": {},
   "outputs": [],
   "source": [
    "# perhaps the Age of the account is important\n",
    "df[\"accountAge\"] = (df.transactionDateTime - df.accountOpenDate).dt.days\n"
   ]
  },
  {
   "cell_type": "code",
   "execution_count": 6,
   "metadata": {},
   "outputs": [
    {
     "data": {
      "text/plain": [
       "transactionType       isFraud\n",
       "PURCHASE              False      725108\n",
       "ADDRESS_VERIFICATION  False       19856\n",
       "REVERSAL              False       19738\n",
       "PURCHASE              True        11528\n",
       "REVERSAL              True          324\n",
       "ADDRESS_VERIFICATION  True          114\n",
       "dtype: int64"
      ]
     },
     "execution_count": 6,
     "metadata": {},
     "output_type": "execute_result"
    }
   ],
   "source": [
    "df[[\"transactionType\", \"isFraud\"]].value_counts()\n"
   ]
  },
  {
   "cell_type": "code",
   "execution_count": 7,
   "metadata": {},
   "outputs": [
    {
     "data": {
      "text/plain": [
       "False    0.971429\n",
       "True     0.028571\n",
       "Name: isFraud, dtype: float64"
      ]
     },
     "execution_count": 7,
     "metadata": {},
     "output_type": "execute_result"
    }
   ],
   "source": [
    "df[df.cardCVV != df.enteredCVV][\"isFraud\"].value_counts(normalize=True)\n",
    "\n"
   ]
  },
  {
   "cell_type": "code",
   "execution_count": 8,
   "metadata": {},
   "outputs": [],
   "source": [
    "# Card CVV vs entered CVV\n",
    "df[\"cvvMatch\"] = df.cardCVV == df.enteredCVV\n"
   ]
  },
  {
   "cell_type": "code",
   "execution_count": 9,
   "metadata": {},
   "outputs": [],
   "source": [
    "# time since address was changed\n",
    "df[\"sinceDateOfLastAddressChange\"] = (\n",
    "    df.transactionDateTime - df.dateOfLastAddressChange\n",
    ").dt.days\n"
   ]
  },
  {
   "cell_type": "code",
   "execution_count": 10,
   "metadata": {},
   "outputs": [],
   "source": [
    "# If country codes match\n",
    "df[\"countryMatch\"] = df.acqCountry == df.merchantCountryCode\n"
   ]
  },
  {
   "cell_type": "code",
   "execution_count": 11,
   "metadata": {},
   "outputs": [
    {
     "name": "stderr",
     "output_type": "stream",
     "text": [
      "<ipython-input-11-381f3c90c286>:5: FutureWarning: Series.dt.weekofyear and Series.dt.week have been deprecated.  Please use Series.dt.isocalendar().week instead.\n",
      "  df[\"weekOfYear\"] = df.transactionDateTime.dt.weekofyear\n"
     ]
    }
   ],
   "source": [
    "# General date properties\n",
    "df[\"dayOfMonth\"] = df.transactionDateTime.dt.day\n",
    "df[\"month\"] = df.transactionDateTime.dt.month\n",
    "df[\"dayOfYear\"] = df.transactionDateTime.dt.dayofyear\n",
    "df[\"weekOfYear\"] = df.transactionDateTime.dt.weekofyear\n",
    "df[\"dayOfWeek\"] = df.transactionDateTime.dt.dayofweek\n",
    "df[\"quarter\"] = df.transactionDateTime.dt.quarter\n",
    "df[\"hour\"] = df.transactionDateTime.dt.hour\n"
   ]
  },
  {
   "cell_type": "code",
   "execution_count": 12,
   "metadata": {},
   "outputs": [],
   "source": [
    "# weekday or weekend\n",
    "df[\"weekday\"] = df.dayOfWeek < 5\n"
   ]
  },
  {
   "cell_type": "code",
   "execution_count": 13,
   "metadata": {},
   "outputs": [],
   "source": [
    "# time of day\n",
    "df[\"timeOfDay\"] = pd.cut(df.hour, bins=3, labels=[0, 1, 2])\n"
   ]
  },
  {
   "cell_type": "markdown",
   "metadata": {},
   "source": [
    "## Aggregations based on client ID"
   ]
  },
  {
   "cell_type": "code",
   "execution_count": 14,
   "metadata": {},
   "outputs": [],
   "source": [
    "# Creating Cumulative Mean. Shifted so each line shows what's happened in the past\n",
    "df[\"cumMean\"] = (\n",
    "    df.groupby(\"customerId\")[\"isFraud\"]\n",
    "    .apply(lambda x: x.shift().expanding().mean())\n",
    "    .fillna(0)\n",
    ")\n"
   ]
  },
  {
   "cell_type": "markdown",
   "metadata": {},
   "source": [
    "## Revisting with more features\n",
    "## After running a basic Log Regression model, I think I need better features"
   ]
  },
  {
   "cell_type": "markdown",
   "metadata": {},
   "source": [
    "### Transactions that happen less than 3 minutes apart"
   ]
  },
  {
   "cell_type": "code",
   "execution_count": 15,
   "metadata": {},
   "outputs": [],
   "source": [
    "df[\"quick_transaction\"] = (\n",
    "    df.groupby(\"customerId\").apply(\n",
    "        lambda x: x.rolling(\"3min\", on=\"transactionDateTime\").count()\n",
    "    )\n",
    ")[\"isFraud\"]\n"
   ]
  },
  {
   "cell_type": "markdown",
   "metadata": {},
   "source": [
    "### Transactions that happen in separate countries, but minutes apart"
   ]
  },
  {
   "cell_type": "code",
   "execution_count": 16,
   "metadata": {},
   "outputs": [],
   "source": [
    "df[\"time_shift_down1\"] = df.groupby(\"customerId\").transactionDateTime.shift(1)\n",
    "df[\"country_shift_down1\"] = df.groupby(\"customerId\").acqCountry.shift(1)\n"
   ]
  },
  {
   "cell_type": "code",
   "execution_count": 17,
   "metadata": {},
   "outputs": [],
   "source": [
    "ctry_diff = df.acqCountry != df.country_shift_down1\n",
    "in_window = (df.transactionDateTime - df.time_shift_down1) < pd.Timedelta(\"5 minutes\")\n",
    "df[\"ctry_diff_five_min\"] = (ctry_diff & in_window).fillna(False)\n"
   ]
  },
  {
   "cell_type": "markdown",
   "metadata": {},
   "source": [
    "### Minimum time (minutes) between transactions in a 30 day span"
   ]
  },
  {
   "cell_type": "code",
   "execution_count": 18,
   "metadata": {},
   "outputs": [],
   "source": [
    "# Difference in time per group\n",
    "df[\"time_diff\"] = (\n",
    "    df.groupby(\"customerId\")[\"transactionDateTime\"].diff().fillna(pd.Timedelta(0))\n",
    ")\n",
    "df[\"time_diff\"] = (df.time_diff.dt.total_seconds() / 60).astype(\"int\")\n"
   ]
  },
  {
   "cell_type": "code",
   "execution_count": 19,
   "metadata": {},
   "outputs": [],
   "source": [
    "df[\"min_time_diff_month\"] = (\n",
    "    df.groupby(\"customerId\")\n",
    "    .apply(lambda x: x.rolling(\"30D\", on=\"transactionDateTime\")[\"time_diff\"].min())\n",
    "    .reset_index(\"customerId\")\n",
    "    .drop(\"customerId\", axis=1)\n",
    "    .sort_index()\n",
    "    .squeeze()\n",
    ")\n"
   ]
  },
  {
   "cell_type": "markdown",
   "metadata": {},
   "source": [
    "### Has Fraud in the past"
   ]
  },
  {
   "cell_type": "code",
   "execution_count": 20,
   "metadata": {},
   "outputs": [],
   "source": [
    "df[\"cumFraud\"] = (\n",
    "    df.groupby(\"customerId\")[\"isFraud\"]\n",
    "    .apply(lambda x: x.shift().expanding().sum())\n",
    "    .fillna(0)\n",
    ")\n"
   ]
  },
  {
   "cell_type": "markdown",
   "metadata": {},
   "source": [
    "### Average Amount spent per transaction over 1 month"
   ]
  },
  {
   "cell_type": "code",
   "execution_count": 21,
   "metadata": {},
   "outputs": [],
   "source": [
    "df[\"avg_spent_month\"] = (\n",
    "    df.groupby(\"customerId\")\n",
    "    .apply(\n",
    "        lambda x: x.rolling(\"30D\", on=\"transactionDateTime\")[\"transactionAmount\"].mean()\n",
    "    )\n",
    "    .reset_index(\"customerId\")\n",
    "    .drop(\"customerId\", axis=1)\n",
    "    .sort_index()\n",
    "    .squeeze()\n",
    ")\n"
   ]
  },
  {
   "cell_type": "markdown",
   "metadata": {},
   "source": [
    "### Total amount spent on the same day"
   ]
  },
  {
   "cell_type": "code",
   "execution_count": 22,
   "metadata": {},
   "outputs": [],
   "source": [
    "df[\"total_spent_one_day\"] = (\n",
    "    df.groupby(\"customerId\")\n",
    "    .apply(\n",
    "        lambda x: x.rolling(\"1D\", on=\"transactionDateTime\")[\"transactionAmount\"].sum()\n",
    "    )\n",
    "    .reset_index(\"customerId\")\n",
    "    .drop(\"customerId\", axis=1)\n",
    "    .sort_index()\n",
    "    .squeeze()\n",
    ")\n"
   ]
  },
  {
   "cell_type": "markdown",
   "metadata": {},
   "source": [
    "# Encoding"
   ]
  },
  {
   "cell_type": "code",
   "execution_count": 23,
   "metadata": {},
   "outputs": [
    {
     "data": {
      "text/plain": [
       "'\\nimport sweetviz as sv\\nmy_report = sv.analyze(df)\\nmy_report.show_html()\\n'"
      ]
     },
     "execution_count": 23,
     "metadata": {},
     "output_type": "execute_result"
    }
   ],
   "source": [
    "# Commented out because It takes a while to run\n",
    "\"\"\"\n",
    "import sweetviz as sv\n",
    "my_report = sv.analyze(df)\n",
    "my_report.show_html()\n",
    "\"\"\"\n",
    "\n"
   ]
  },
  {
   "cell_type": "code",
   "execution_count": 24,
   "metadata": {},
   "outputs": [
    {
     "data": {
      "text/plain": [
       "'\\nEnconding List\\n\\ncustomerId - nothing\\ncreditLimit - nothing\\navailableMoney - cut\\ntransactionDateTime - drop\\ntransactionAmount - qcut\\nmerchantName - ordinal\\nacqCountry - ordinal\\nmerchantCountryCode - ordinal\\nposEntryMode - ordinal\\nposConditionCode - ordinal\\nmerchantCategoryCode - ordinal\\ncurrentExpDate - drop\\naccountOpenDate - drop\\ndateOfLastAddressChange - drop\\ncardCVV - drop\\nenteredCVV - drop\\ncardLast4Digits - drop\\ntransactionType - ordinal\\ncurrentBalance - nothing\\ncardPresent - boolean\\nexpirationDateKeyInMatch - boolean\\nisFraud - boolean\\naccountAge - nothing\\ncvvMatch - boolean\\nsinceDateOfLastAddressChange - nothing\\ncountryMatch - boolean\\ndayOfMonth - nothing\\nmonth - nothing\\ndayOfYear - nothing\\nweekOfYear - nothing\\ndayOfWeek - nothing\\nquarter - nothing\\nhour - nothing\\nweekday - boolean\\ntimeOfDay - nothing\\ncumMean - nothing\\nquick_transaction - nothing\\ntime_shift_down1 - drop\\ncountry_shift_down1 - drop\\nctry_diff_five_min - boolean\\ntime_diff - nothing\\nmin_time_diff_month - nothing\\ncumFraud - nothing\\navg_spent_month - nothing\\ntotal_spent_one_day - nothing\\n'"
      ]
     },
     "execution_count": 24,
     "metadata": {},
     "output_type": "execute_result"
    }
   ],
   "source": [
    "\"\"\"\n",
    "Enconding List\n",
    "\n",
    "customerId - nothing\n",
    "creditLimit - nothing\n",
    "availableMoney - cut\n",
    "transactionDateTime - drop\n",
    "transactionAmount - qcut\n",
    "merchantName - ordinal\n",
    "acqCountry - ordinal\n",
    "merchantCountryCode - ordinal\n",
    "posEntryMode - ordinal\n",
    "posConditionCode - ordinal\n",
    "merchantCategoryCode - ordinal\n",
    "currentExpDate - drop\n",
    "accountOpenDate - drop\n",
    "dateOfLastAddressChange - drop\n",
    "cardCVV - drop\n",
    "enteredCVV - drop\n",
    "cardLast4Digits - drop\n",
    "transactionType - ordinal\n",
    "currentBalance - nothing\n",
    "cardPresent - boolean\n",
    "expirationDateKeyInMatch - boolean\n",
    "isFraud - boolean\n",
    "accountAge - nothing\n",
    "cvvMatch - boolean\n",
    "sinceDateOfLastAddressChange - nothing\n",
    "countryMatch - boolean\n",
    "dayOfMonth - nothing\n",
    "month - nothing\n",
    "dayOfYear - nothing\n",
    "weekOfYear - nothing\n",
    "dayOfWeek - nothing\n",
    "quarter - nothing\n",
    "hour - nothing\n",
    "weekday - boolean\n",
    "timeOfDay - nothing\n",
    "cumMean - nothing\n",
    "quick_transaction - nothing\n",
    "time_shift_down1 - drop\n",
    "country_shift_down1 - drop\n",
    "ctry_diff_five_min - boolean\n",
    "time_diff - nothing\n",
    "min_time_diff_month - nothing\n",
    "cumFraud - nothing\n",
    "avg_spent_month - nothing\n",
    "total_spent_one_day - nothing\n",
    "\"\"\"\n"
   ]
  },
  {
   "cell_type": "markdown",
   "metadata": {},
   "source": [
    "## Cut"
   ]
  },
  {
   "cell_type": "code",
   "execution_count": 25,
   "metadata": {},
   "outputs": [],
   "source": [
    "# available money - cut\n",
    "df[\"availableMoney\"] = pd.cut(\n",
    "    df.availableMoney,\n",
    "    bins=[-5000, -1000, -500, -100, 0, 100, 500, 1000, 5000, 50000],\n",
    "    labels=[0, 1, 2, 3, 4, 5, 6, 7, 8],\n",
    ")\n",
    "\n",
    "# transactionAmount - qcut\n",
    "df[\"transactionAmount\"] = pd.qcut(df.transactionAmount, 4, labels=[0, 1, 2, 3])\n"
   ]
  },
  {
   "cell_type": "markdown",
   "metadata": {},
   "source": [
    "## Ordinal"
   ]
  },
  {
   "cell_type": "code",
   "execution_count": 26,
   "metadata": {},
   "outputs": [
    {
     "data": {
      "text/plain": [
       "0"
      ]
     },
     "execution_count": 26,
     "metadata": {},
     "output_type": "execute_result"
    }
   ],
   "source": [
    "# merchantName - i'm going to remove the individual locations - like AMC #010101 - could change this choice later\n",
    "df[\"merchantName\"] = df.merchantName.str.replace(r\"\\s#.*$\", \"\", regex=True)\n",
    "\n",
    "# List of cols to encode\n",
    "ordinal_encode = [\n",
    "    \"acqCountry\",\n",
    "    \"merchantCountryCode\",\n",
    "    \"posEntryMode\",\n",
    "    \"posConditionCode\",\n",
    "    \"merchantCategoryCode\",\n",
    "    \"transactionType\",\n",
    "    \"merchantName\",\n",
    "]\n",
    "\n",
    "# Encode all cols\n",
    "ordinal = preprocessing.OrdinalEncoder()\n",
    "df[ordinal_encode] = ordinal.fit_transform(df[ordinal_encode])\n",
    "# Counts numpy of nans\n",
    "df[ordinal_encode].isnull().sum().sum()\n"
   ]
  },
  {
   "cell_type": "markdown",
   "metadata": {},
   "source": [
    "## Booleans"
   ]
  },
  {
   "cell_type": "code",
   "execution_count": 27,
   "metadata": {},
   "outputs": [],
   "source": [
    "boolean_encode = [\n",
    "    \"cardPresent\",\n",
    "    \"expirationDateKeyInMatch\",\n",
    "    \"isFraud\",\n",
    "    \"cvvMatch\",\n",
    "    \"countryMatch\",\n",
    "    \"weekday\",\n",
    "    \"ctry_diff_five_min\",\n",
    "]\n",
    "\n",
    "df[boolean_encode] = df[boolean_encode].astype(\"int\")\n"
   ]
  },
  {
   "cell_type": "markdown",
   "metadata": {},
   "source": [
    "## Drop"
   ]
  },
  {
   "cell_type": "code",
   "execution_count": 28,
   "metadata": {},
   "outputs": [],
   "source": [
    "df = df.drop(\n",
    "    [\n",
    "        \"transactionDateTime\",\n",
    "        \"currentExpDate\",\n",
    "        \"accountOpenDate\",\n",
    "        \"dateOfLastAddressChange\",\n",
    "        \"cardCVV\",\n",
    "        \"enteredCVV\",\n",
    "        \"cardLast4Digits\",\n",
    "        \"time_shift_down1\",\n",
    "        \"country_shift_down1\",\n",
    "    ],\n",
    "    axis=1,\n",
    ")\n"
   ]
  },
  {
   "cell_type": "code",
   "execution_count": 31,
   "metadata": {},
   "outputs": [
    {
     "name": "stdout",
     "output_type": "stream",
     "text": [
      "<class 'pandas.core.frame.DataFrame'>\n",
      "Int64Index: 776668 entries, 0 to 786362\n",
      "Data columns (total 36 columns):\n",
      " #   Column                        Non-Null Count   Dtype   \n",
      "---  ------                        --------------   -----   \n",
      " 0   customerId                    776668 non-null  int64   \n",
      " 1   creditLimit                   776668 non-null  float64 \n",
      " 2   availableMoney                776668 non-null  category\n",
      " 3   transactionAmount             776668 non-null  category\n",
      " 4   merchantName                  776668 non-null  float64 \n",
      " 5   acqCountry                    776668 non-null  float64 \n",
      " 6   merchantCountryCode           776668 non-null  float64 \n",
      " 7   posEntryMode                  776668 non-null  float64 \n",
      " 8   posConditionCode              776668 non-null  float64 \n",
      " 9   merchantCategoryCode          776668 non-null  float64 \n",
      " 10  transactionType               776668 non-null  float64 \n",
      " 11  currentBalance                776668 non-null  float64 \n",
      " 12  cardPresent                   776668 non-null  int32   \n",
      " 13  expirationDateKeyInMatch      776668 non-null  int32   \n",
      " 14  isFraud                       776668 non-null  int32   \n",
      " 15  accountAge                    776668 non-null  int64   \n",
      " 16  cvvMatch                      776668 non-null  int32   \n",
      " 17  sinceDateOfLastAddressChange  776668 non-null  int64   \n",
      " 18  countryMatch                  776668 non-null  int32   \n",
      " 19  dayOfMonth                    776668 non-null  int64   \n",
      " 20  month                         776668 non-null  int64   \n",
      " 21  dayOfYear                     776668 non-null  int64   \n",
      " 22  weekOfYear                    776668 non-null  int64   \n",
      " 23  dayOfWeek                     776668 non-null  int64   \n",
      " 24  quarter                       776668 non-null  int64   \n",
      " 25  hour                          776668 non-null  int64   \n",
      " 26  weekday                       776668 non-null  int32   \n",
      " 27  timeOfDay                     776668 non-null  category\n",
      " 28  cumMean                       776668 non-null  float64 \n",
      " 29  quick_transaction             776668 non-null  float64 \n",
      " 30  ctry_diff_five_min            776668 non-null  int32   \n",
      " 31  time_diff                     776668 non-null  int32   \n",
      " 32  min_time_diff_month           776668 non-null  float64 \n",
      " 33  cumFraud                      776668 non-null  float64 \n",
      " 34  avg_spent_month               776668 non-null  float64 \n",
      " 35  total_spent_one_day           776668 non-null  float64 \n",
      "dtypes: category(3), float64(15), int32(8), int64(10)\n",
      "memory usage: 180.0 MB\n"
     ]
    }
   ],
   "source": [
    "df.info()"
   ]
  },
  {
   "cell_type": "code",
   "execution_count": 33,
   "metadata": {},
   "outputs": [
    {
     "data": {
      "text/plain": [
       "0         7\n",
       "1         7\n",
       "2         7\n",
       "3         7\n",
       "4         7\n",
       "         ..\n",
       "786358    8\n",
       "786359    8\n",
       "786360    8\n",
       "786361    8\n",
       "786362    8\n",
       "Name: availableMoney, Length: 776668, dtype: category\n",
       "Categories (9, int64): [0 < 1 < 2 < 3 ... 5 < 6 < 7 < 8]"
      ]
     },
     "execution_count": 33,
     "metadata": {},
     "output_type": "execute_result"
    }
   ],
   "source": [
    "df.availableMoney"
   ]
  },
  {
   "cell_type": "code",
   "execution_count": 29,
   "metadata": {},
   "outputs": [],
   "source": [
    "# Saves types to load quickly\n",
    "df.dtypes.to_csv(\"./data/processed/transactions_dtypes.csv\")\n"
   ]
  },
  {
   "cell_type": "code",
   "execution_count": 30,
   "metadata": {},
   "outputs": [],
   "source": [
    "df.to_csv(\"./data/processed/transactions.csv\")\n"
   ]
  }
 ],
 "metadata": {
  "interpreter": {
   "hash": "ed225720166559e7176d3793db16a2fd8d295f725007103b21ac3099d2a89ee8"
  },
  "kernelspec": {
   "display_name": "Python 3.8.8 64-bit ('base': conda)",
   "name": "python3"
  },
  "language_info": {
   "codemirror_mode": {
    "name": "ipython",
    "version": 3
   },
   "file_extension": ".py",
   "mimetype": "text/x-python",
   "name": "python",
   "nbconvert_exporter": "python",
   "pygments_lexer": "ipython3",
   "version": "3.8.8"
  },
  "orig_nbformat": 4
 },
 "nbformat": 4,
 "nbformat_minor": 2
}
