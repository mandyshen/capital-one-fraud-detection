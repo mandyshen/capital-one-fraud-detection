{
 "cells": [
  {
   "cell_type": "code",
   "execution_count": 1,
   "metadata": {},
   "outputs": [],
   "source": [
    "import pandas as pd\n",
    "from sklearn import preprocessing"
   ]
  },
  {
   "cell_type": "code",
   "execution_count": 2,
   "metadata": {},
   "outputs": [],
   "source": [
    "df = pd.read_csv('./data/interim/transactions.csv', \n",
    "    index_col=0,\n",
    "    parse_dates=['transactionDateTime', 'currentExpDate', 'accountOpenDate', 'dateOfLastAddressChange']\n",
    "    )"
   ]
  },
  {
   "cell_type": "markdown",
   "metadata": {},
   "source": [
    "# Adding Columns"
   ]
  },
  {
   "cell_type": "code",
   "execution_count": 3,
   "metadata": {},
   "outputs": [],
   "source": [
    "# for referencing\n",
    "df_ref = df.head(20)"
   ]
  },
  {
   "cell_type": "code",
   "execution_count": 4,
   "metadata": {},
   "outputs": [
    {
     "data": {
      "text/plain": [
       "Index(['customerId', 'creditLimit', 'availableMoney', 'transactionDateTime',\n",
       "       'transactionAmount', 'merchantName', 'acqCountry',\n",
       "       'merchantCountryCode', 'posEntryMode', 'posConditionCode',\n",
       "       'merchantCategoryCode', 'currentExpDate', 'accountOpenDate',\n",
       "       'dateOfLastAddressChange', 'cardCVV', 'enteredCVV', 'cardLast4Digits',\n",
       "       'transactionType', 'currentBalance', 'cardPresent',\n",
       "       'expirationDateKeyInMatch', 'isFraud'],\n",
       "      dtype='object')"
      ]
     },
     "execution_count": 4,
     "metadata": {},
     "output_type": "execute_result"
    }
   ],
   "source": [
    "df.columns"
   ]
  },
  {
   "cell_type": "code",
   "execution_count": 5,
   "metadata": {},
   "outputs": [],
   "source": [
    "# perhaps the Age of the account is important\n",
    "df['accountAge'] = (df.transactionDateTime - df.accountOpenDate).dt.days"
   ]
  },
  {
   "cell_type": "code",
   "execution_count": 6,
   "metadata": {},
   "outputs": [
    {
     "data": {
      "text/plain": [
       "transactionType       isFraud\n",
       "PURCHASE              False      725108\n",
       "ADDRESS_VERIFICATION  False       19856\n",
       "REVERSAL              False       19738\n",
       "PURCHASE              True        11528\n",
       "REVERSAL              True          324\n",
       "ADDRESS_VERIFICATION  True          114\n",
       "dtype: int64"
      ]
     },
     "execution_count": 6,
     "metadata": {},
     "output_type": "execute_result"
    }
   ],
   "source": [
    "df[['transactionType', 'isFraud']].value_counts()"
   ]
  },
  {
   "cell_type": "code",
   "execution_count": 7,
   "metadata": {},
   "outputs": [
    {
     "data": {
      "text/plain": [
       "False    0.971429\n",
       "True     0.028571\n",
       "Name: isFraud, dtype: float64"
      ]
     },
     "execution_count": 7,
     "metadata": {},
     "output_type": "execute_result"
    }
   ],
   "source": [
    "df[df.cardCVV != df.enteredCVV]['isFraud'].value_counts(normalize=True)"
   ]
  },
  {
   "cell_type": "code",
   "execution_count": 8,
   "metadata": {},
   "outputs": [],
   "source": [
    "# Card CVV vs entered CVV\n",
    "df['cvvMatch'] = df.cardCVV == df.enteredCVV"
   ]
  },
  {
   "cell_type": "code",
   "execution_count": 9,
   "metadata": {},
   "outputs": [],
   "source": [
    "# time since address was changed\n",
    "df['sinceDateOfLastAddressChange'] = (df.transactionDateTime - df.dateOfLastAddressChange).dt.days"
   ]
  },
  {
   "cell_type": "code",
   "execution_count": 10,
   "metadata": {},
   "outputs": [],
   "source": [
    "# If country codes match\n",
    "df['countryMatch'] = df.acqCountry == df.merchantCountryCode"
   ]
  },
  {
   "cell_type": "code",
   "execution_count": 11,
   "metadata": {},
   "outputs": [
    {
     "name": "stderr",
     "output_type": "stream",
     "text": [
      "<ipython-input-11-9eec54191e15>:5: FutureWarning: Series.dt.weekofyear and Series.dt.week have been deprecated.  Please use Series.dt.isocalendar().week instead.\n",
      "  df['weekOfYear'] = df.transactionDateTime.dt.weekofyear\n"
     ]
    }
   ],
   "source": [
    "# General date properties\n",
    "df['dayOfMonth'] = df.transactionDateTime.dt.day\n",
    "df['month'] = df.transactionDateTime.dt.month\n",
    "df['dayOfYear'] = df.transactionDateTime.dt.dayofyear\n",
    "df['weekOfYear'] = df.transactionDateTime.dt.weekofyear\n",
    "df['dayOfWeek'] = df.transactionDateTime.dt.dayofweek\n",
    "df['quarter'] = df.transactionDateTime.dt.quarter\n",
    "df['hour'] = df.transactionDateTime.dt.hour"
   ]
  },
  {
   "cell_type": "code",
   "execution_count": 12,
   "metadata": {},
   "outputs": [],
   "source": [
    "# weekday or weekend\n",
    "df['weekday'] = df.dayOfWeek < 5"
   ]
  },
  {
   "cell_type": "code",
   "execution_count": 13,
   "metadata": {},
   "outputs": [],
   "source": [
    "# time of day\n",
    "df['timeOfDay'] = pd.cut(df.hour, bins=3, labels=[0, 1, 2])"
   ]
  },
  {
   "cell_type": "markdown",
   "metadata": {},
   "source": [
    "## Aggregations based on client ID"
   ]
  },
  {
   "cell_type": "code",
   "execution_count": 14,
   "metadata": {},
   "outputs": [],
   "source": [
    "# df = df.sort_values('transactionDateTime').reset_index()\n",
    "# df['cumsum(isFraud)'] = (df.groupby('customerId')['isFraud'].cumsum(axis=0))"
   ]
  },
  {
   "cell_type": "code",
   "execution_count": 15,
   "metadata": {},
   "outputs": [],
   "source": [
    "# Creating Cumulative Mean. Shifted so each line shows what's happened in the past\n",
    "df['cumMean'] = (\n",
    "    df\n",
    "    .groupby('customerId')['isFraud']\n",
    "    .apply(lambda x: x.shift().expanding().mean())\n",
    "    .fillna(0)\n",
    "    )"
   ]
  },
  {
   "cell_type": "code",
   "execution_count": 16,
   "metadata": {},
   "outputs": [
    {
     "data": {
      "text/html": [
       "<div>\n",
       "<style scoped>\n",
       "    .dataframe tbody tr th:only-of-type {\n",
       "        vertical-align: middle;\n",
       "    }\n",
       "\n",
       "    .dataframe tbody tr th {\n",
       "        vertical-align: top;\n",
       "    }\n",
       "\n",
       "    .dataframe thead th {\n",
       "        text-align: right;\n",
       "    }\n",
       "</style>\n",
       "<table border=\"1\" class=\"dataframe\">\n",
       "  <thead>\n",
       "    <tr style=\"text-align: right;\">\n",
       "      <th></th>\n",
       "      <th>transactionDateTime</th>\n",
       "      <th>isFraud</th>\n",
       "      <th>cumMean</th>\n",
       "    </tr>\n",
       "  </thead>\n",
       "  <tbody>\n",
       "    <tr>\n",
       "      <th>616074</th>\n",
       "      <td>2016-01-03 14:26:37</td>\n",
       "      <td>True</td>\n",
       "      <td>0.000000</td>\n",
       "    </tr>\n",
       "    <tr>\n",
       "      <th>616402</th>\n",
       "      <td>2016-02-23 09:53:21</td>\n",
       "      <td>True</td>\n",
       "      <td>0.002924</td>\n",
       "    </tr>\n",
       "    <tr>\n",
       "      <th>616559</th>\n",
       "      <td>2016-03-21 23:53:41</td>\n",
       "      <td>True</td>\n",
       "      <td>0.004008</td>\n",
       "    </tr>\n",
       "    <tr>\n",
       "      <th>616730</th>\n",
       "      <td>2016-04-15 11:24:47</td>\n",
       "      <td>True</td>\n",
       "      <td>0.004484</td>\n",
       "    </tr>\n",
       "    <tr>\n",
       "      <th>616889</th>\n",
       "      <td>2016-05-09 13:24:22</td>\n",
       "      <td>True</td>\n",
       "      <td>0.004848</td>\n",
       "    </tr>\n",
       "    <tr>\n",
       "      <th>617040</th>\n",
       "      <td>2016-06-04 07:42:22</td>\n",
       "      <td>True</td>\n",
       "      <td>0.005128</td>\n",
       "    </tr>\n",
       "    <tr>\n",
       "      <th>617041</th>\n",
       "      <td>2016-06-04 07:43:58</td>\n",
       "      <td>True</td>\n",
       "      <td>0.006148</td>\n",
       "    </tr>\n",
       "    <tr>\n",
       "      <th>617384</th>\n",
       "      <td>2016-07-24 14:52:14</td>\n",
       "      <td>True</td>\n",
       "      <td>0.005315</td>\n",
       "    </tr>\n",
       "    <tr>\n",
       "      <th>617431</th>\n",
       "      <td>2016-07-31 21:38:16</td>\n",
       "      <td>True</td>\n",
       "      <td>0.005865</td>\n",
       "    </tr>\n",
       "    <tr>\n",
       "      <th>617473</th>\n",
       "      <td>2016-08-08 18:49:58</td>\n",
       "      <td>True</td>\n",
       "      <td>0.006406</td>\n",
       "    </tr>\n",
       "    <tr>\n",
       "      <th>617799</th>\n",
       "      <td>2016-09-27 08:02:51</td>\n",
       "      <td>True</td>\n",
       "      <td>0.005787</td>\n",
       "    </tr>\n",
       "    <tr>\n",
       "      <th>617902</th>\n",
       "      <td>2016-10-15 08:32:02</td>\n",
       "      <td>True</td>\n",
       "      <td>0.006011</td>\n",
       "    </tr>\n",
       "    <tr>\n",
       "      <th>618300</th>\n",
       "      <td>2016-12-19 16:42:57</td>\n",
       "      <td>True</td>\n",
       "      <td>0.005396</td>\n",
       "    </tr>\n",
       "    <tr>\n",
       "      <th>618335</th>\n",
       "      <td>2016-12-25 02:11:33</td>\n",
       "      <td>True</td>\n",
       "      <td>0.005755</td>\n",
       "    </tr>\n",
       "  </tbody>\n",
       "</table>\n",
       "</div>"
      ],
      "text/plain": [
       "       transactionDateTime  isFraud   cumMean\n",
       "616074 2016-01-03 14:26:37     True  0.000000\n",
       "616402 2016-02-23 09:53:21     True  0.002924\n",
       "616559 2016-03-21 23:53:41     True  0.004008\n",
       "616730 2016-04-15 11:24:47     True  0.004484\n",
       "616889 2016-05-09 13:24:22     True  0.004848\n",
       "617040 2016-06-04 07:42:22     True  0.005128\n",
       "617041 2016-06-04 07:43:58     True  0.006148\n",
       "617384 2016-07-24 14:52:14     True  0.005315\n",
       "617431 2016-07-31 21:38:16     True  0.005865\n",
       "617473 2016-08-08 18:49:58     True  0.006406\n",
       "617799 2016-09-27 08:02:51     True  0.005787\n",
       "617902 2016-10-15 08:32:02     True  0.006011\n",
       "618300 2016-12-19 16:42:57     True  0.005396\n",
       "618335 2016-12-25 02:11:33     True  0.005755"
      ]
     },
     "execution_count": 16,
     "metadata": {},
     "output_type": "execute_result"
    }
   ],
   "source": [
    "df[(df.customerId == 152973583) & (df.isFraud == True)][['transactionDateTime', 'isFraud', 'cumMean']]"
   ]
  },
  {
   "cell_type": "markdown",
   "metadata": {},
   "source": [
    "# Encoding"
   ]
  },
  {
   "cell_type": "code",
   "execution_count": 17,
   "metadata": {},
   "outputs": [],
   "source": [
    "# import sweetviz as sv\n",
    "# my_report = sv.analyze(df)\n",
    "# my_report.show_html() "
   ]
  },
  {
   "cell_type": "code",
   "execution_count": null,
   "metadata": {},
   "outputs": [],
   "source": []
  },
  {
   "cell_type": "code",
   "execution_count": 18,
   "metadata": {},
   "outputs": [
    {
     "data": {
      "text/plain": [
       "Index(['customerId', 'creditLimit', 'availableMoney', 'transactionDateTime',\n",
       "       'transactionAmount', 'merchantName', 'acqCountry',\n",
       "       'merchantCountryCode', 'posEntryMode', 'posConditionCode',\n",
       "       'merchantCategoryCode', 'currentExpDate', 'accountOpenDate',\n",
       "       'dateOfLastAddressChange', 'cardCVV', 'enteredCVV', 'cardLast4Digits',\n",
       "       'transactionType', 'currentBalance', 'cardPresent',\n",
       "       'expirationDateKeyInMatch', 'isFraud', 'accountAge', 'cvvMatch',\n",
       "       'sinceDateOfLastAddressChange', 'countryMatch', 'dayOfMonth', 'month',\n",
       "       'dayOfYear', 'weekOfYear', 'dayOfWeek', 'quarter', 'hour', 'weekday',\n",
       "       'timeOfDay', 'cumMean'],\n",
       "      dtype='object')"
      ]
     },
     "execution_count": 18,
     "metadata": {},
     "output_type": "execute_result"
    }
   ],
   "source": [
    "df.columns"
   ]
  },
  {
   "cell_type": "code",
   "execution_count": 19,
   "metadata": {},
   "outputs": [],
   "source": [
    "# Credit Limit - should be fine the way it is\n",
    "# {k: v for k, v in enumerate(np.sort(df.creditLimit.unique()))}"
   ]
  },
  {
   "cell_type": "code",
   "execution_count": 20,
   "metadata": {},
   "outputs": [],
   "source": [
    "# available money - cut\n",
    "df['availableMoney'] = pd.cut(df.availableMoney, bins=[-5000, -1000, -500, -100, 0, 100, 500, 1000, 5000, 50000], labels=[0, 1, 2, 3, 4, 5, 6, 7, 8])"
   ]
  },
  {
   "cell_type": "code",
   "execution_count": 21,
   "metadata": {},
   "outputs": [],
   "source": [
    "# transactionDateTime - drop"
   ]
  },
  {
   "cell_type": "code",
   "execution_count": 22,
   "metadata": {},
   "outputs": [],
   "source": [
    "# transactionAmount - qcut\n",
    "df['transactionAmount'] = pd.qcut(df.transactionAmount, 4, labels=[0, 1, 2, 3])"
   ]
  },
  {
   "cell_type": "code",
   "execution_count": 23,
   "metadata": {},
   "outputs": [
    {
     "name": "stderr",
     "output_type": "stream",
     "text": [
      "<ipython-input-23-889b33a50821>:2: FutureWarning: The default value of regex will change from True to False in a future version.\n",
      "  df['merchantName'] = df.merchantName.str.replace(r'\\s#.*$', '')\n"
     ]
    }
   ],
   "source": [
    "# merchantName - i'm going to remove the individual locations - like AMC #010101 - could change this choice later\n",
    "df['merchantName'] = df.merchantName.str.replace(r'\\s#.*$', '')\n",
    "# Encode labels to ints\n",
    "df['merchantName'] = preprocessing.LabelEncoder().fit_transform(df.merchantName)"
   ]
  },
  {
   "cell_type": "code",
   "execution_count": 24,
   "metadata": {},
   "outputs": [],
   "source": [
    "# acqCountry, merchantCountryCode, posEntryMode, posConditionCode, \n",
    "# merchantCategoryCode, transactionType\n",
    "# - encode lables to ints\n",
    "df['acqCountry'] = preprocessing.LabelEncoder().fit_transform(df.acqCountry)\n",
    "df['merchantCountryCode'] = preprocessing.LabelEncoder().fit_transform(df.merchantCountryCode)\n",
    "df['posEntryMode'] = preprocessing.LabelEncoder().fit_transform(df.posEntryMode)\n",
    "df['posConditionCode'] = preprocessing.LabelEncoder().fit_transform(df.posConditionCode)\n",
    "df['merchantCategoryCode'] = preprocessing.LabelEncoder().fit_transform(df.merchantCategoryCode)\n",
    "df['transactionType'] = preprocessing.LabelEncoder().fit_transform(df.transactionType)\n",
    "\n"
   ]
  },
  {
   "cell_type": "code",
   "execution_count": 25,
   "metadata": {},
   "outputs": [],
   "source": [
    "# # # Booleans\n",
    "# cardPresent\n",
    "# expirationDateKeyInMatch\n",
    "# isFraud\n",
    "# cvvMatch\n",
    "# countryMatch\n",
    "# weekday\n",
    "df.cardPresent = df.cardPresent.astype('int')\n",
    "df.expirationDateKeyInMatch =  df.expirationDateKeyInMatch.astype('int')\n",
    "df.isFraud = df.isFraud.astype('int')\n",
    "df.cvvMatch = df.cvvMatch.astype('int')\n",
    "df.countryMatch = df.countryMatch.astype('int')\n",
    "df.weekday = df.cardPresent.astype('int')"
   ]
  },
  {
   "cell_type": "code",
   "execution_count": 26,
   "metadata": {},
   "outputs": [],
   "source": [
    "# account age - leave alone for now\n",
    "# sinceDateOfLastAddressChange - leave alone for now\n",
    "# dayOfMonth, month, dayOfYear, weekOfYear, weekOfYear, dayOfWeek - leave alone for now\n",
    "# quarter, hour - leave alone for now\n",
    "# timeOfDay - leave alone for now\n"
   ]
  },
  {
   "cell_type": "code",
   "execution_count": 27,
   "metadata": {},
   "outputs": [],
   "source": [
    "# cumMean and customerId, idk yet "
   ]
  },
  {
   "cell_type": "code",
   "execution_count": 28,
   "metadata": {},
   "outputs": [
    {
     "data": {
      "text/plain": [
       "7    318444\n",
       "8    273283\n",
       "5     92224\n",
       "6     73165\n",
       "4     16656\n",
       "3      1534\n",
       "2      1279\n",
       "1        82\n",
       "0         1\n",
       "Name: availableMoney, dtype: int64"
      ]
     },
     "execution_count": 28,
     "metadata": {},
     "output_type": "execute_result"
    }
   ],
   "source": [
    "df.availableMoney.value_counts(dropna=False)"
   ]
  },
  {
   "cell_type": "code",
   "execution_count": 29,
   "metadata": {},
   "outputs": [],
   "source": [
    "# currentExpDate drop\n",
    "# accountOpenDate drop\n",
    "# dateOfLastAddressChange drop\n",
    "# cardCVV drop\n",
    "# enteredCVV drop\n",
    "# cardLast4Digits maybe grouping by clientid and this would be useful, but dropping for now\n",
    "df = df.drop(\n",
    "    ['transactionDateTime', 'currentExpDate', 'accountOpenDate', 'dateOfLastAddressChange', 'cardCVV',\n",
    "    'enteredCVV', 'cardLast4Digits'], axis=1)"
   ]
  },
  {
   "cell_type": "code",
   "execution_count": 30,
   "metadata": {},
   "outputs": [],
   "source": [
    "# Saves types to load quickly\n",
    "df.dtypes.to_csv('./data/processed/transactions_dtypes.csv')"
   ]
  },
  {
   "cell_type": "code",
   "execution_count": 31,
   "metadata": {},
   "outputs": [],
   "source": [
    "df.to_csv(\"./data/processed/transactions.csv\")"
   ]
  }
 ],
 "metadata": {
  "interpreter": {
   "hash": "ed225720166559e7176d3793db16a2fd8d295f725007103b21ac3099d2a89ee8"
  },
  "kernelspec": {
   "display_name": "Python 3.8.8 64-bit ('base': conda)",
   "name": "python3"
  },
  "language_info": {
   "codemirror_mode": {
    "name": "ipython",
    "version": 3
   },
   "file_extension": ".py",
   "mimetype": "text/x-python",
   "name": "python",
   "nbconvert_exporter": "python",
   "pygments_lexer": "ipython3",
   "version": "3.8.8"
  },
  "orig_nbformat": 4
 },
 "nbformat": 4,
 "nbformat_minor": 2
}
